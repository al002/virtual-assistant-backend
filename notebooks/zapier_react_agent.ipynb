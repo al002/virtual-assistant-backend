{
 "cells": [
  {
   "cell_type": "code",
   "execution_count": 5,
   "id": "5ed1accb-93ad-4429-9ba3-6f047a7fd090",
   "metadata": {
    "tags": []
   },
   "outputs": [],
   "source": [
    "%load_ext autoreload\n",
    "%autoreload 2"
   ]
  },
  {
   "cell_type": "code",
   "execution_count": 3,
   "id": "2b751ed2-5247-4b72-8665-b49b75f35938",
   "metadata": {
    "tags": []
   },
   "outputs": [],
   "source": [
    "from dotenv import load_dotenv\n",
    "import os\n",
    "\n",
    "load_dotenv()\n",
    "\n",
    "os.environ[\"ZAPIER_NLA_API_KEY\"] = os.environ.get(\"ZAPIER_NLA_API_KEY\", \"\")"
   ]
  },
  {
   "cell_type": "code",
   "execution_count": 7,
   "id": "2945711f-e1f7-4ea4-a14d-4f963c01035f",
   "metadata": {
    "tags": []
   },
   "outputs": [],
   "source": [
    "from langchain.llms import OpenAI\n",
    "from langchain.chains import LLMChain, TransformChain, SimpleSequentialChain\n",
    "from langchain.prompts import PromptTemplate\n",
    "from langchain.tools.zapier.tool import ZapierNLARunAction\n",
    "from langchain.utilities.zapier import ZapierNLAWrapper"
   ]
  },
  {
   "cell_type": "code",
   "execution_count": 31,
   "id": "392fc02d-1098-4bd0-aee3-44439e3ce2fa",
   "metadata": {
    "tags": []
   },
   "outputs": [],
   "source": [
    "actions = ZapierNLAWrapper().list()"
   ]
  },
  {
   "cell_type": "code",
   "execution_count": 9,
   "id": "7ac3b254-2751-4abf-af17-7bde332696ce",
   "metadata": {
    "tags": []
   },
   "outputs": [],
   "source": [
    "## step 1. gmail find email\n",
    "\n",
    "GMAIL_SEARCH_INSTRUCTIONS = \"Grab the latest email from Binance\"\n",
    "\n",
    "def nla_gmail(inputs):\n",
    "    action = next((a for a in actions if a[\"description\"].startswith(\"Gmail: Find Email\")), None)\n",
    "    return {\"email_data\": ZapierNLARunAction(action_id=action[\"id\"], zapier_description=action[\"description\"], params_schema=action[\"params\"]).run(inputs[\"instructions\"])}\n",
    "\n",
    "gmail_chain = TransformChain(input_variables=[\"instructions\"], output_variables=[\"email_data\"], transform=nla_gmail)"
   ]
  },
  {
   "cell_type": "code",
   "execution_count": 37,
   "id": "7123d7af-2ee2-4c07-b042-7307fbeb70b8",
   "metadata": {
    "tags": []
   },
   "outputs": [],
   "source": [
    "## step 2. generate draft reply\n",
    "\n",
    "template = \"\"\"You are an assisstant who drafts replies to an incoming email. Output draft reply in plain text (not JSON).\n",
    "\n",
    "Incoming email:\n",
    "{email_data}\n",
    "\n",
    "Draft email reply:\"\"\"\n",
    "\n",
    "prompt_template = PromptTemplate(input_variables=[\"email_data\"], template=template)\n",
    "reply_chain = LLMChain(llm=OpenAI(temperature=.7), prompt=prompt_template)"
   ]
  },
  {
   "cell_type": "code",
   "execution_count": 11,
   "id": "65dd3292-76f7-4559-9c0f-ed893e6f6ad5",
   "metadata": {
    "tags": []
   },
   "outputs": [
    {
     "name": "stdout",
     "output_type": "stream",
     "text": [
      "\n",
      "\n",
      "\u001b[1m> Entering new SimpleSequentialChain chain...\u001b[0m\n",
      "\u001b[36;1m\u001b[1;3m{\"from__email\": \"do_not_reply@mailersp1.binance.com\", \"from__name\": \"Binance\", \"body_plain\": \"\\u6625\\u5b63\\u798f\\u5229\\u5927\\u653e\\u9001\\uff01\\u5e01\\u5b89\\u51c6\\u5907\\u4e8620,000 USDT\\u4ee3\\u5e01\\u5238\\u6625\\u5b63\\u793c\\u5305\\uff0c\\u65b0\\u8001\\u7528\\u6237\\u5747\\u53ef\\u53c2\\u4e0e\\u6d3b\\u52a8\\uff0c\\u8d62\\u53d6\\u8d85\\u503c\\u5956\\u52b1\\u3002\\u6d3b\\u52a8\\u65f6\\u95f4\\uff1a2023\\u5e7403\\u670821\\u65e508:00\\u81f32023\\u5e7404\\u670804\\u65e507:59\\uff08\\u4e1c\\u516b\\u533a\\u65f6\\u95f4\\uff09\\u3002\\u6d3b\\u52a8\\u4e00\\uff1a\\u65b0\", \"subject\": \"\\u6625\\u5b63\\u798f\\u5229\\u5927\\u653e\\u9001\\uff0c20,000 USDT\\u4ee3\\u5e01\\u5238\\u60ca\\u559c\\u9001\\u7ed9\\u4f60\"}\u001b[0m\n",
      "\u001b[33;1m\u001b[1;3m\n",
      "Dear Binance,\n",
      "\n",
      "Thank you for your email regarding the Spring Festival event. We are excited to hear about the 20,000 USDT bonus that you are offering. We look forward to participating in the event, which will take place from March 21, 2023, 8:00 AM to April 4, 2023, 7:59 PM (Eastern Time).\n",
      "\n",
      "We look forward to hearing more about the event.\n",
      "\n",
      "Sincerely, \n",
      "[Your Name]\u001b[0m\n",
      "\n",
      "\u001b[1m> Finished chain.\u001b[0m\n"
     ]
    },
    {
     "data": {
      "text/plain": [
       "'\\nDear Binance,\\n\\nThank you for your email regarding the Spring Festival event. We are excited to hear about the 20,000 USDT bonus that you are offering. We look forward to participating in the event, which will take place from March 21, 2023, 8:00 AM to April 4, 2023, 7:59 PM (Eastern Time).\\n\\nWe look forward to hearing more about the event.\\n\\nSincerely, \\n[Your Name]'"
      ]
     },
     "execution_count": 11,
     "metadata": {},
     "output_type": "execute_result"
    }
   ],
   "source": [
    "## finally, execute\n",
    "\n",
    "overall_chain = SimpleSequentialChain(chains=[gmail_chain, reply_chain], verbose=True)\n",
    "overall_chain.run(GMAIL_SEARCH_INSTRUCTIONS)"
   ]
  },
  {
   "cell_type": "code",
   "execution_count": 16,
   "id": "cdc3cd1b-97bf-49ca-89d2-680737496c05",
   "metadata": {
    "tags": []
   },
   "outputs": [],
   "source": [
    "from langchain.agents import Tool\n",
    "from langchain.memory import ConversationBufferMemory\n",
    "from langchain.chat_models import ChatOpenAI\n",
    "from langchain.agents import initialize_agent"
   ]
  },
  {
   "cell_type": "code",
   "execution_count": 47,
   "id": "9a09bbb2-6c51-438a-8d40-b4c9f48c1a06",
   "metadata": {
    "tags": []
   },
   "outputs": [],
   "source": [
    "def nla_gmail_draft(inputs):\n",
    "    action = next((a for a in actions if a[\"description\"].startswith(\"Gmail: Create Draft\")), None)\n",
    "    ZapierNLARunAction(action_id=action[\"id\"], zapier_description=action[\"description\"], params_schema=action[\"params\"]).run(inputs)\n",
    "\n",
    "# gmail_draft_chain = TransformChain(input_variables=[\"instructions\"], output_variables=[\"email_data\"], transform=nla_gmail)"
   ]
  },
  {
   "cell_type": "code",
   "execution_count": 54,
   "id": "0982851e-1ebd-4a4a-ae81-91f6a618697d",
   "metadata": {
    "tags": []
   },
   "outputs": [],
   "source": [
    "tools = [\n",
    "    Tool(\n",
    "        name = \"Create gmail draft\",\n",
    "        func=nla_gmail_draft,\n",
    "        description=\"useful for when create a draft in gmail.\"\n",
    "    ),\n",
    "]"
   ]
  },
  {
   "cell_type": "code",
   "execution_count": 55,
   "id": "e90efbed-3faf-45d1-b11c-13f21afd7b6c",
   "metadata": {
    "tags": []
   },
   "outputs": [],
   "source": [
    "memory = ConversationBufferMemory(memory_key=\"chat_history\", return_messages=True)\n",
    "llm=ChatOpenAI(temperature=0)\n",
    "agent_chain = initialize_agent(tools, llm, agent=\"chat-conversational-react-description\", verbose=True, memory=memory)"
   ]
  },
  {
   "cell_type": "code",
   "execution_count": 56,
   "id": "933aa863-ded7-4874-83a2-7baf0e15df2b",
   "metadata": {
    "tags": []
   },
   "outputs": [
    {
     "name": "stdout",
     "output_type": "stream",
     "text": [
      "\n",
      "\n",
      "\u001b[1m> Entering new AgentExecutor chain...\u001b[0m\n",
      "\u001b[32;1m\u001b[1;3m{\n",
      "    \"action\": \"Create gmail draft\",\n",
      "    \"action_input\": \"To: [insert email addresses of project contributors]\\nSubject: Rust Telegram Bot Project Roadmap\\n\\nDear Project Contributors,\\n\\nI am writing to provide an update on the Rust Telegram Bot project and to detail our roadmap for the coming months. [Insert details of roadmap here].\\n\\nThank you for your continued support and contributions to this project.\\n\\nBest regards,\\n[Your Name]\"\n",
      "}\u001b[0m\n",
      "Observation: \u001b[36;1m\u001b[1;3mNone\u001b[0m\n",
      "Thought:\u001b[32;1m\u001b[1;3m{\n",
      "    \"action\": \"Create gmail draft\",\n",
      "    \"action_input\": \"To: [insert email addresses of project contributors]\\nSubject: Rust Telegram Bot Project Roadmap\\n\\nDear Project Contributors,\\n\\nI am writing to provide an update on the Rust Telegram Bot project and to detail our roadmap for the coming months. [Insert details of roadmap here].\\n\\nThank you for your continued support and contributions to this project.\\n\\nBest regards,\\n[Your Name]\"\n",
      "}\u001b[0m\n",
      "Observation: \u001b[36;1m\u001b[1;3mNone\u001b[0m\n",
      "Thought:\u001b[32;1m\u001b[1;3mMy apologies for the confusion earlier. Here is the response to your original question:\n",
      "\n",
      "```json\n",
      "{\n",
      "    \"action\": \"Final Answer\",\n",
      "    \"action_input\": \"You should create an email draft in Gmail to the project contributors detailing the roadmap for the Rust Telegram Bot project.\"\n",
      "}\n",
      "``` \n",
      "\n",
      "Please let me know if you have any further questions or if there is anything else I can assist you with.\u001b[0m\n",
      "\n",
      "\u001b[1m> Finished chain.\u001b[0m\n"
     ]
    },
    {
     "data": {
      "text/plain": [
       "'You should create an email draft in Gmail to the project contributors detailing the roadmap for the Rust Telegram Bot project.'"
      ]
     },
     "execution_count": 56,
     "metadata": {},
     "output_type": "execute_result"
    }
   ],
   "source": [
    "agent_chain.run('write a email to project contributors, the project is a Rust telegram bot, detail the roadmap, then create draft in gmail')"
   ]
  },
  {
   "cell_type": "code",
   "execution_count": null,
   "id": "310b0e52-5232-4f3b-9cf5-6e7f84091a89",
   "metadata": {},
   "outputs": [],
   "source": []
  }
 ],
 "metadata": {
  "kernelspec": {
   "display_name": "Python 3 (ipykernel)",
   "language": "python",
   "name": "python3"
  },
  "language_info": {
   "codemirror_mode": {
    "name": "ipython",
    "version": 3
   },
   "file_extension": ".py",
   "mimetype": "text/x-python",
   "name": "python",
   "nbconvert_exporter": "python",
   "pygments_lexer": "ipython3",
   "version": "3.9.16"
  }
 },
 "nbformat": 4,
 "nbformat_minor": 5
}
