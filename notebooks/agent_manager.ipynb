{
 "cells": [
  {
   "cell_type": "code",
   "execution_count": 1,
   "id": "397f4538-f289-4908-87c6-d92de42c2dfc",
   "metadata": {
    "tags": []
   },
   "outputs": [
    {
     "data": {
      "text/plain": [
       "True"
      ]
     },
     "execution_count": 1,
     "metadata": {},
     "output_type": "execute_result"
    }
   ],
   "source": [
    "from dotenv import load_dotenv\n",
    "import os\n",
    "\n",
    "load_dotenv()"
   ]
  },
  {
   "cell_type": "code",
   "execution_count": 6,
   "id": "7f0a245b-122b-4eea-9943-1c44a366547b",
   "metadata": {
    "tags": []
   },
   "outputs": [],
   "source": [
    "from virtual_assistant.agents import AgentManager"
   ]
  },
  {
   "cell_type": "code",
   "execution_count": 7,
   "id": "48bc6bfb-2f9c-4087-b901-1925ebd7e7a6",
   "metadata": {
    "tags": []
   },
   "outputs": [],
   "source": [
    "manager = AgentManager.create([])"
   ]
  },
  {
   "cell_type": "code",
   "execution_count": 8,
   "id": "36fa2b17-77bf-4326-9efc-24d42bd0d093",
   "metadata": {
    "tags": []
   },
   "outputs": [],
   "source": [
    "executor1 = manager.create_executor('executor1')"
   ]
  },
  {
   "cell_type": "code",
   "execution_count": 9,
   "id": "58df30ec-1ccc-4d12-b309-7b2795466a13",
   "metadata": {
    "tags": []
   },
   "outputs": [
    {
     "name": "stdout",
     "output_type": "stream",
     "text": [
      "\n",
      "\n",
      "\u001b[1m> Entering new AgentExecutor chain...\u001b[0m\n",
      "\u001b[32;1m\u001b[1;3mAction: Browsing internet tool\n",
      "Plan:\n",
      "- [ ] Open a web browser\n",
      "- [ ] Navigate to a search engine\n",
      "- [ ] Type \"shenzhen weather today\" in the search bar\n",
      "- [ ] Look for a reliable source of information\n",
      "- [ ] Check the weather forecast for Shenzhen today\n",
      "What I Did: None\n",
      "Action Input: \"shenzhen weather today\"\u001b[0m\n",
      "Observation: \u001b[36;1m\u001b[1;3mShenzhen, Guangdong Province, China / Weather:  81°F\u001b[0m\n",
      "Thought:\u001b[32;1m\u001b[1;3mAction: Final Answer\n",
      "Plan: None\n",
      "What I Did: I used the browsing internet tool to look up the weather in Shenzhen today.\n",
      "Action Input: \"Shenzhen, Guangdong Province, China / Weather:  81°F\"\u001b[0m\n",
      "\n",
      "\u001b[1m> Finished chain.\u001b[0m\n"
     ]
    },
    {
     "data": {
      "text/plain": [
       "'Shenzhen, Guangdong Province, China / Weather:  81°F'"
      ]
     },
     "execution_count": 9,
     "metadata": {},
     "output_type": "execute_result"
    }
   ],
   "source": [
    "executor1.run('shenzhen weather today')"
   ]
  },
  {
   "cell_type": "code",
   "execution_count": null,
   "id": "6e042388-5fe0-44f7-a044-4089ede3812c",
   "metadata": {},
   "outputs": [],
   "source": []
  }
 ],
 "metadata": {
  "kernelspec": {
   "display_name": "Python 3 (ipykernel)",
   "language": "python",
   "name": "python3"
  },
  "language_info": {
   "codemirror_mode": {
    "name": "ipython",
    "version": 3
   },
   "file_extension": ".py",
   "mimetype": "text/x-python",
   "name": "python",
   "nbconvert_exporter": "python",
   "pygments_lexer": "ipython3",
   "version": "3.9.16"
  }
 },
 "nbformat": 4,
 "nbformat_minor": 5
}
