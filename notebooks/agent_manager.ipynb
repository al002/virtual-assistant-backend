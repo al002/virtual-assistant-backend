{
 "cells": [
  {
   "cell_type": "code",
   "execution_count": 1,
   "id": "397f4538-f289-4908-87c6-d92de42c2dfc",
   "metadata": {
    "tags": []
   },
   "outputs": [
    {
     "data": {
      "text/plain": [
       "True"
      ]
     },
     "execution_count": 1,
     "metadata": {},
     "output_type": "execute_result"
    }
   ],
   "source": [
    "from dotenv import load_dotenv\n",
    "import os\n",
    "\n",
    "load_dotenv()"
   ]
  },
  {
   "cell_type": "code",
   "execution_count": 2,
   "id": "7f0a245b-122b-4eea-9943-1c44a366547b",
   "metadata": {
    "tags": []
   },
   "outputs": [
    {
     "name": "stderr",
     "output_type": "stream",
     "text": [
      "/Users/al002/github/virtual_assistant/virtual-assistant-chain/.venv/lib/python3.9/site-packages/pinecone/index.py:4: TqdmWarning: IProgress not found. Please update jupyter and ipywidgets. See https://ipywidgets.readthedocs.io/en/stable/user_install.html\n",
      "  from tqdm.autonotebook import tqdm\n"
     ]
    }
   ],
   "source": [
    "from virtual_assistant.agents import AgentManager"
   ]
  },
  {
   "cell_type": "code",
   "execution_count": 3,
   "id": "48bc6bfb-2f9c-4087-b901-1925ebd7e7a6",
   "metadata": {
    "tags": []
   },
   "outputs": [],
   "source": [
    "manager = AgentManager.create([])"
   ]
  },
  {
   "cell_type": "code",
   "execution_count": 4,
   "id": "36fa2b17-77bf-4326-9efc-24d42bd0d093",
   "metadata": {
    "tags": []
   },
   "outputs": [],
   "source": [
    "agent1 = manager.create_executor('agent1')"
   ]
  },
  {
   "cell_type": "code",
   "execution_count": 5,
   "id": "58df30ec-1ccc-4d12-b309-7b2795466a13",
   "metadata": {
    "tags": []
   },
   "outputs": [
    {
     "name": "stdout",
     "output_type": "stream",
     "text": [
      "memory=ConversationBufferMemory(chat_memory=ChatMessageHistory(messages=[]), output_key=None, input_key=None, return_messages=True, human_prefix='Human', ai_prefix='AI', memory_key='chat_history') callbacks=<langchain.callbacks.manager.CallbackManager object at 0x115f08070> verbose=True agent=ConversationalChatAgent(llm_chain=LLMChain(memory=None, callbacks=None, callback_manager=None, verbose=False, prompt=ChatPromptTemplate(input_variables=['input', 'chat_history', 'agent_scratchpad'], output_parser=None, partial_variables={}, messages=[SystemMessagePromptTemplate(prompt=PromptTemplate(input_variables=[], output_parser=None, partial_variables={}, template='Assistant is a AGI can perform any task that human asked.\\nAssistant is designed to be able to assist with a wide range of tasks, for example answering simple questions, code, debug, browsing internet, and write emails etc. As a AGI, Assistant is able to generate human-like text based on the input it receives, allowing it to engage in natural-sounding conversations and provide responses that are coherent and relevant to the topic at hand.\\n\\nAssistant is constantly learning and improving, and its capabilities are constantly evolving. It is able to process and understand large amounts of text, and can use this knowledge to provide accurate and informative responses to a wide range of questions. Additionally, Assistant is able to generate its own text based on the input it receives, allowing it to engage in discussions and provide explanations and descriptions on a wide range of topics.\\n\\nOverall, Assistant is a powerful system that can help with a wide range of tasks and use tools to complete task. Assistant is here to assist.\\n', template_format='f-string', validate_template=True), additional_kwargs={}), MessagesPlaceholder(variable_name='chat_history'), HumanMessagePromptTemplate(prompt=PromptTemplate(input_variables=['input'], output_parser=None, partial_variables={}, template=\"TOOLS\\n------\\nYou can ask the user to use tools to look up information that may be helpful in answering the users original question. The tools the human can use are:\\n\\n> Browsing internet tool: A wrapper around search and internet browsing. Useful when you need retrieve lastest information or question context.Input should be a search query.\\n> knowledgebase retrival tool: Retrival for knowledgebaseUseful when you need retrieve information and question context from local knowledgebase.Input should be a query.\\n\\nRESPONSE FORMAT INSTRUCTIONS\\n----------------------------\\n\\nWhen responding to me please, please output a response in one of two yaml formats, response must be a valid yaml. No explanation is allowed after action input.:\\n\\n**Option #1:**\\nUse this if you want the human to use a tool.\\nYour response should be in the following schema:\\n\\nAction: the action to take, should be one of [Browsing internet tool, knowledgebase retrival tool]\\nPlan: All remaining detailed plans after this action in check box. Each plan should be concise and clear to achieve the goal. Write it in the following schema: - [ ] plan\\nWhat I Did: What you just did to achieve the goal. If you have not done anything, write None.\\nAction Input: the input to the action\\n\\n**Option #2:**\\nUse this if you want to respond directly to the human.\\nYour response should be in the following schema:\\n\\nAction: Final Answer\\nPlan: None\\nWhat I Did: ...\\nAction Input: string \\\\ You should put final reply here.\\n\\n\\nUSER'S INPUT\\n--------------------\\nHere is the user's input:\\n\\n{input}\", template_format='f-string', validate_template=True), additional_kwargs={}), MessagesPlaceholder(variable_name='agent_scratchpad')]), llm=ChatOpenAI(verbose=True, callbacks=<langchain.callbacks.manager.CallbackManager object at 0x115f08070>, client=<class 'openai.api_resources.chat_completion.ChatCompletion'>, model_name='gpt-3.5-turbo', temperature=0.0, model_kwargs={}, openai_api_key=None, openai_organization=None, request_timeout=None, max_retries=6, streaming=False, n=1, max_tokens=None), output_key='text'), output_parser=TaskOutputParser(), allowed_tools=['Browsing internet tool', 'knowledgebase retrival tool']) tools=[BrowsingTool(name='Browsing internet tool', description='A wrapper around search and internet browsing. Useful when you need retrieve lastest information or question context.Input should be a search query.', args_schema=None, return_direct=False, verbose=False, callbacks=None, callback_manager=<langchain.callbacks.manager.CallbackManager object at 0x115f08070>, serper=GoogleSerperAPIWrapper(k=3, gl='us', hl='en', serper_api_key='bac8fe315ed18779454f47bf61fb8a4bbd6f9a2f')), RetrivalTool(name='knowledgebase retrival tool', description='Retrival for knowledgebaseUseful when you need retrieve information and question context from local knowledgebase.Input should be a query.', args_schema=None, return_direct=False, verbose=False, callbacks=None, callback_manager=<langchain.callbacks.manager.CallbackManager object at 0x115f08070>, retriver=VectorStoreRetriever(vectorstore=<langchain.vectorstores.pinecone.Pinecone object at 0x10c5ecc40>, search_type='similarity', search_kwargs={}))] return_intermediate_steps=False max_iterations=15 max_execution_time=None early_stopping_method='force' handle_parsing_errors=False\n"
     ]
    }
   ],
   "source": [
    "print(agent1)"
   ]
  },
  {
   "cell_type": "code",
   "execution_count": null,
   "id": "6e042388-5fe0-44f7-a044-4089ede3812c",
   "metadata": {},
   "outputs": [],
   "source": []
  }
 ],
 "metadata": {
  "kernelspec": {
   "display_name": "Python 3 (ipykernel)",
   "language": "python",
   "name": "python3"
  },
  "language_info": {
   "codemirror_mode": {
    "name": "ipython",
    "version": 3
   },
   "file_extension": ".py",
   "mimetype": "text/x-python",
   "name": "python",
   "nbconvert_exporter": "python",
   "pygments_lexer": "ipython3",
   "version": "3.9.16"
  }
 },
 "nbformat": 4,
 "nbformat_minor": 5
}
