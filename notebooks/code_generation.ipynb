{
 "cells": [
  {
   "cell_type": "code",
   "execution_count": 1,
   "id": "02e726bc-5393-4278-9fde-3a9de2d5defb",
   "metadata": {
    "tags": []
   },
   "outputs": [],
   "source": [
    "%%capture\n",
    "# update or install the necessary libraries\n",
    "!pip install --upgrade openai\n",
    "!pip install --upgrade langchain"
   ]
  },
  {
   "cell_type": "code",
   "execution_count": 2,
   "id": "775d50b4-938e-4de3-86e3-1444906f1a04",
   "metadata": {
    "tags": []
   },
   "outputs": [],
   "source": [
    "from langchain import LLMChain, PromptTemplate\n",
    "from langchain.chat_models import ChatOpenAI\n",
    "from langchain.callbacks.base import CallbackManager\n",
    "from langchain.callbacks.streaming_stdout import StreamingStdOutCallbackHandler"
   ]
  },
  {
   "cell_type": "code",
   "execution_count": 3,
   "id": "9fb8d63b-4065-468e-89b9-79bce738b475",
   "metadata": {
    "tags": []
   },
   "outputs": [],
   "source": [
    "template = \"\"\"\n",
    "I want you to act as a {role}. I will describe a project details you will code project with thouse tools: {tech_stacks}. You should output different filename and content for its functionality. Do not write explanations and give optimized code. My frist request is \"{query}\".\n",
    "\"\"\""
   ]
  },
  {
   "cell_type": "code",
   "execution_count": 4,
   "id": "d2a041e1-b70c-4883-a881-3d5b60eb0e79",
   "metadata": {
    "tags": []
   },
   "outputs": [],
   "source": [
    "prompt = PromptTemplate.from_template(template)"
   ]
  },
  {
   "cell_type": "code",
   "execution_count": 5,
   "id": "7c13a7ba-b3cc-411b-b8ee-f29d50880167",
   "metadata": {
    "tags": []
   },
   "outputs": [],
   "source": [
    "ROLE = \"Senior Frontend developer\"\n",
    "TECHS = \"React, pnpm, Ant Design, Redux Toolkit, axios\"\n",
    "QUERY = \"Create Pokemon App that lists pokemons with images that come from PokeAPI sprites endpoint\""
   ]
  },
  {
   "cell_type": "code",
   "execution_count": 13,
   "id": "a01fbde9-6a77-4891-b376-817d8fe4d803",
   "metadata": {
    "tags": []
   },
   "outputs": [],
   "source": [
    "# chat mode instance\n",
    "chat = ChatOpenAI(temperature=0, max_tokens=2048, streaming=True, callback_manager=CallbackManager([StreamingStdOutCallbackHandler()]), verbose=True)"
   ]
  },
  {
   "cell_type": "code",
   "execution_count": 14,
   "id": "3bff789f-d3f5-4b69-b4c7-9515c606d947",
   "metadata": {
    "tags": []
   },
   "outputs": [],
   "source": [
    "llm_chain = LLMChain(\n",
    "    llm=chat, \n",
    "    prompt=prompt,\n",
    "    verbose=True, \n",
    ")"
   ]
  },
  {
   "cell_type": "code",
   "execution_count": 15,
   "id": "5397e0ce-2f28-4d02-a27c-15c24b79151b",
   "metadata": {
    "tags": []
   },
   "outputs": [
    {
     "name": "stdout",
     "output_type": "stream",
     "text": [
      "\n",
      "\n",
      "\u001b[1m> Entering new LLMChain chain...\u001b[0m\n",
      "Prompt after formatting:\n",
      "\u001b[32;1m\u001b[1;3m\n",
      "I want you to act as a Senior Frontend developer. I will describe a project details you will code project with thouse tools: React, pnpm, Ant Design, Redux Toolkit, axios. You should output different filename and content for its functionality. Do not write explanations and give optimized code. My frist request is \"Create Pokemon App that lists pokemons with images that come from PokeAPI sprites endpoint\".\n",
      "\u001b[0m\n",
      "\n",
      "\n",
      "Sure, I can work on this project as a Senior Frontend developer. Here's the code for the Pokemon App that lists pokemons with images that come from PokeAPI sprites endpoint using React, pnpm, Ant Design, Redux Toolkit, and axios:\n",
      "\n",
      "1. Create a new React app using create-react-app:\n",
      "\n",
      "```\n",
      "npx create-react-app pokemon-app\n",
      "```\n",
      "\n",
      "2. Install the required dependencies:\n",
      "\n",
      "```\n",
      "pnpm install antd axios react-redux reduxjs/toolkit\n",
      "```\n",
      "\n",
      "3. Create a new file called `PokemonList.js` in the `src` folder:\n",
      "\n",
      "```jsx\n",
      "import React, { useEffect } from 'react';\n",
      "import { useSelector, useDispatch } from 'react-redux';\n",
      "import { List, Avatar } from 'antd';\n",
      "import { fetchPokemons } from './pokemonSlice';\n",
      "\n",
      "const PokemonList = () => {\n",
      "  const dispatch = useDispatch();\n",
      "  const { pokemons, status } = useSelector((state) => state.pokemon);\n",
      "\n",
      "  useEffect(() => {\n",
      "    dispatch(fetchPokemons());\n",
      "  }, [dispatch]);\n",
      "\n",
      "  return (\n",
      "    <List\n",
      "      itemLayout=\"horizontal\"\n",
      "      dataSource={pokemons}\n",
      "      loading={status === 'loading'}\n",
      "      renderItem={(pokemon) => (\n",
      "        <List.Item>\n",
      "          <List.Item.Meta\n",
      "            avatar={<Avatar src={pokemon.image} />}\n",
      "            title={pokemon.name}\n",
      "          />\n",
      "        </List.Item>\n",
      "      )}\n",
      "    />\n",
      "  );\n",
      "};\n",
      "\n",
      "export default PokemonList;\n",
      "```\n",
      "\n",
      "4. Create a new file called `pokemonSlice.js` in the `src` folder:\n",
      "\n",
      "```js\n",
      "import { createSlice, createAsyncThunk } from '@reduxjs/toolkit';\n",
      "import axios from 'axios';\n",
      "\n",
      "export const fetchPokemons = createAsyncThunk(\n",
      "  'pokemon/fetchPokemons',\n",
      "  async () => {\n",
      "    const response = await axios.get('https://pokeapi.co/api/v2/pokemon?limit=20');\n",
      "    const pokemons = response.data.results.map((pokemon, index) => ({\n",
      "      id: index + 1,\n",
      "      name: pokemon.name,\n",
      "      image: `https://raw.githubusercontent.com/PokeAPI/sprites/master/sprites/pokemon/${index + 1}.png`,\n",
      "    }));\n",
      "    return pokemons;\n",
      "  }\n",
      ");\n",
      "\n",
      "const pokemonSlice = createSlice({\n",
      "  name: 'pokemon',\n",
      "  initialState: {\n",
      "    pokemons: [],\n",
      "    status: 'idle',\n",
      "    error: null,\n",
      "  },\n",
      "  reducers: {},\n",
      "  extraReducers: (builder) => {\n",
      "    builder\n",
      "      .addCase(fetchPokemons.pending, (state) => {\n",
      "        state.status = 'loading';\n",
      "      })\n",
      "      .addCase(fetchPokemons.fulfilled, (state, action) => {\n",
      "        state.status = 'succeeded';\n",
      "        state.pokemons = action.payload;\n",
      "      })\n",
      "      .addCase(fetchPokemons.rejected, (state, action) => {\n",
      "        state.status = 'failed';\n",
      "        state.error = action.error.message;\n",
      "      });\n",
      "  },\n",
      "});\n",
      "\n",
      "export default pokemonSlice.reducer;\n",
      "```\n",
      "\n",
      "5. Update the `index.js` file in the `src` folder:\n",
      "\n",
      "```jsx\n",
      "import React from 'react';\n",
      "import ReactDOM from 'react-dom';\n",
      "import { Provider } from 'react-redux';\n",
      "import { configureStore } from '@reduxjs/toolkit';\n",
      "import pokemonReducer from './pokemonSlice';\n",
      "import PokemonList from './PokemonList';\n",
      "\n",
      "const store = configureStore({\n",
      "  reducer: {\n",
      "    pokemon: pokemonReducer,\n",
      "  },\n",
      "});\n",
      "\n",
      "ReactDOM.render(\n",
      "  <Provider store={store}>\n",
      "    <PokemonList />\n",
      "  </Provider>,\n",
      "  document.getElementById('root')\n",
      ");\n",
      "```\n",
      "\n",
      "6. Run the app:\n",
      "\n",
      "```\n",
      "pnpm start\n",
      "```\n",
      "\n",
      "The app should now be running on `http://localhost:3000` and displaying a list of 20 pokemons with their images.\n",
      "\u001b[1m> Finished chain.\u001b[0m\n"
     ]
    }
   ],
   "source": [
    "output = llm_chain.predict(role=ROLE, tech_stacks=TECHS, query=QUERY)"
   ]
  }
 ],
 "metadata": {
  "kernelspec": {
   "display_name": "Python 3 (ipykernel)",
   "language": "python",
   "name": "python3"
  },
  "language_info": {
   "codemirror_mode": {
    "name": "ipython",
    "version": 3
   },
   "file_extension": ".py",
   "mimetype": "text/x-python",
   "name": "python",
   "nbconvert_exporter": "python",
   "pygments_lexer": "ipython3",
   "version": "3.11.2 (main, Mar 17 2023, 22:58:02) [Clang 14.0.0 (clang-1400.0.29.202)]"
  },
  "vscode": {
   "interpreter": {
    "hash": "cfb9e1c0ba0de140de356c119cd0a81be22a052f3354108bc34068c451896006"
   }
  }
 },
 "nbformat": 4,
 "nbformat_minor": 5
}
