{
 "cells": [
  {
   "cell_type": "code",
   "execution_count": null,
   "id": "02e726bc-5393-4278-9fde-3a9de2d5defb",
   "metadata": {},
   "outputs": [],
   "source": [
    "%%capture\n",
    "# update or install the necessary libraries\n",
    "!pip install --upgrade openai\n",
    "!pip install --upgrade langchain"
   ]
  },
  {
   "cell_type": "code",
   "execution_count": null,
   "id": "775d50b4-938e-4de3-86e3-1444906f1a04",
   "metadata": {},
   "outputs": [],
   "source": [
    "from langchain import LLMChain, PromptTemplate\n",
    "from langchain.chat_models import ChatOpenAI\n",
    "from langchain.callbacks.base import CallbackManager\n",
    "from langchain.callbacks.streaming_stdout import StreamingStdOutCallbackHandler"
   ]
  },
  {
   "cell_type": "code",
   "execution_count": null,
   "id": "9fb8d63b-4065-468e-89b9-79bce738b475",
   "metadata": {},
   "outputs": [],
   "source": [
    "template = \"\"\"\n",
    "I want you to act as a {role}. I will describe a project details you will code project with thouse tools: {tech_stacks}. You should output different filename and content for its functionality. Do not write explanations and give optimized code. My frist request is \"{query}\".\n",
    "\"\"\""
   ]
  },
  {
   "cell_type": "code",
   "execution_count": null,
   "id": "d2a041e1-b70c-4883-a881-3d5b60eb0e79",
   "metadata": {},
   "outputs": [],
   "source": [
    "prompt = PromptTemplate.from_template(template)"
   ]
  },
  {
   "cell_type": "code",
   "execution_count": null,
   "id": "7c13a7ba-b3cc-411b-b8ee-f29d50880167",
   "metadata": {},
   "outputs": [],
   "source": [
    "ROLE = \"Senior Frontend developer\"\n",
    "TECHS = \"React, pnpm, Ant Design, Redux Toolkit, axios\"\n",
    "QUERY = \"Create Pokemon App that lists pokemons with images that come from PokeAPI sprites endpoint\""
   ]
  },
  {
   "cell_type": "code",
   "execution_count": null,
   "id": "a01fbde9-6a77-4891-b376-817d8fe4d803",
   "metadata": {},
   "outputs": [],
   "source": [
    "# chat mode instance\n",
    "chat = ChatOpenAI(temperature=0, streaming=True, callback_manager=CallbackManager([StreamingStdOutCallbackHandler()]), verbose=True)"
   ]
  },
  {
   "cell_type": "code",
   "execution_count": null,
   "id": "3bff789f-d3f5-4b69-b4c7-9515c606d947",
   "metadata": {},
   "outputs": [],
   "source": [
    "chatgpt_chain = LLMChain(\n",
    "    llm=chat, \n",
    "    prompt=prompt, \n",
    "    verbose=True, \n",
    ")"
   ]
  },
  {
   "cell_type": "code",
   "execution_count": null,
   "id": "5397e0ce-2f28-4d02-a27c-15c24b79151b",
   "metadata": {},
   "outputs": [],
   "source": [
    "output = chatgpt_chain.predict(role=ROLE, tech_stacks=TECHS, query=QUERY)"
   ]
  }
 ],
 "metadata": {
  "kernelspec": {
   "display_name": "Python 3 (ipykernel)",
   "language": "python",
   "name": "python3"
  },
  "language_info": {
   "codemirror_mode": {
    "name": "ipython",
    "version": 3
   },
   "file_extension": ".py",
   "mimetype": "text/x-python",
   "name": "python",
   "nbconvert_exporter": "python",
   "pygments_lexer": "ipython3",
   "version": "3.11.2"
  }
 },
 "nbformat": 4,
 "nbformat_minor": 5
}
