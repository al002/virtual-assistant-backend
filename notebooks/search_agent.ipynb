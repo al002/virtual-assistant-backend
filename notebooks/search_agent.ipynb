{
 "cells": [
  {
   "cell_type": "code",
   "execution_count": 3,
   "id": "87229b8d-901d-4c86-b9dd-bbc9171a9242",
   "metadata": {
    "tags": []
   },
   "outputs": [],
   "source": [
    "%%capture\n",
    "# update or install the necessary libraries\n",
    "!pip install --upgrade google-search-results\n"
   ]
  },
  {
   "cell_type": "code",
   "execution_count": 1,
   "id": "8ac08914-8f6d-45f5-8291-fbe938f246fd",
   "metadata": {
    "tags": []
   },
   "outputs": [
    {
     "data": {
      "text/plain": [
       "True"
      ]
     },
     "execution_count": 1,
     "metadata": {},
     "output_type": "execute_result"
    }
   ],
   "source": [
    "from dotenv import load_dotenv\n",
    "import os\n",
    "\n",
    "load_dotenv()"
   ]
  },
  {
   "cell_type": "code",
   "execution_count": 2,
   "id": "c86de660-8522-4cde-b0b6-3ae8eb047242",
   "metadata": {
    "tags": []
   },
   "outputs": [],
   "source": [
    "from langchain.agents import Tool, load_tools\n",
    "from langchain.memory import ConversationBufferMemory\n",
    "from langchain.chat_models import ChatOpenAI\n",
    "from langchain.agents import initialize_agent\n",
    "\n",
    "from virtual_assistant.tools import BrowsingTool\n",
    "from virtual_assistant.utilities import GoogleSerperAPIWrapper"
   ]
  },
  {
   "cell_type": "code",
   "execution_count": 3,
   "id": "78271e9c-3fcd-4fd6-aab8-394dc4ce19aa",
   "metadata": {
    "tags": []
   },
   "outputs": [],
   "source": [
    "memory = ConversationBufferMemory(memory_key=\"chat_history\", return_messages=True)"
   ]
  },
  {
   "cell_type": "code",
   "execution_count": 4,
   "id": "551867d5-e500-4001-ba6d-bd8707299b71",
   "metadata": {
    "tags": []
   },
   "outputs": [],
   "source": [
    "# tool_names = ['google-serper']\n",
    "# tools = load_tools(tool_names, llm=llm)\n",
    "\n",
    "tools = [BrowsingTool(serper=GoogleSerperAPIWrapper())]"
   ]
  },
  {
   "cell_type": "code",
   "execution_count": 5,
   "id": "8669cfc4-3a27-413a-bfa0-c5ddb940a4f6",
   "metadata": {
    "tags": []
   },
   "outputs": [],
   "source": [
    "llm=ChatOpenAI(temperature=0)\n",
    "agent_chain = initialize_agent(tools, llm, agent=\"chat-conversational-react-description\", verbose=True, memory=memory)"
   ]
  },
  {
   "cell_type": "code",
   "execution_count": 6,
   "id": "3a3dc25c-8b0d-4db5-948b-275fb366e0f6",
   "metadata": {},
   "outputs": [
    {
     "name": "stdout",
     "output_type": "stream",
     "text": [
      "\n",
      "\n",
      "\u001b[1m> Entering new AgentExecutor chain...\u001b[0m\n",
      "\u001b[32;1m\u001b[1;3m{\n",
      "    \"action\": \"Browsing internet tool\",\n",
      "    \"action_input\": \"Thai food dinner recipes for this week\"\n",
      "}\u001b[0m"
     ]
    },
    {
     "name": "stderr",
     "output_type": "stream",
     "text": [
      "Created a chunk of size 2824, which is longer than the specified 1000\n",
      "Created a chunk of size 1235, which is longer than the specified 1000\n",
      "Created a chunk of size 1739, which is longer than the specified 1000\n"
     ]
    },
    {
     "name": "stdout",
     "output_type": "stream",
     "text": [
      "\n",
      "Observation: \u001b[36;1m\u001b[1;3m59 easy Thai recipes for any night of the week\n",
      " \n",
      "\n",
      "\n",
      "\n",
      "\n",
      "\n",
      "\n",
      "\n",
      "\n",
      "\n",
      "\n",
      "\n",
      "\n",
      "\n",
      "\n",
      "\n",
      "\n",
      "\n",
      "\n",
      "\n",
      "\n",
      "Log In\n",
      "/\n",
      "Sign Up\n",
      "\n",
      "\n",
      "\n",
      "Welcome, \n",
      "\n",
      "\n",
      "\n",
      "\n",
      "\n",
      "\n",
      "\n",
      "\n",
      "\n",
      "Subscribe\n",
      "\n",
      "\n",
      "\n",
      "\n",
      "\n",
      "                    Recipes\n",
      "                \n",
      "\n",
      "\n",
      "\n",
      "                    Eat Out\n",
      "                \n",
      "\n",
      "\n",
      "\n",
      "                    Travel\n",
      "                \n",
      "\n",
      "\n",
      "\n",
      "                    Drinks\n",
      "                \n",
      "\n",
      "\n",
      "\n",
      "                    Entertaining\n",
      "                \n",
      "\n",
      "\n",
      "\n",
      "                    Food News\n",
      "                \n",
      "\n",
      "\n",
      "\n",
      "Search\n",
      "\n",
      "\n",
      "\n",
      "\n",
      "\n",
      "\n",
      "\n",
      "\n",
      "\n",
      "\n",
      "59 easy Thai recipes for any night of the week\n",
      "\n",
      "Fast, fresh and fragrant – it’s no wonder Thai is one of Australia’s favourite cuisines. When the clock is ticking and stomachs are grumbling, whip up these easy recipes in a flash.\n",
      "\n",
      "\n",
      "\n",
      "\n",
      "\n",
      "\n",
      "\n",
      "\n",
      "\n",
      "by delicious. team\n",
      "delicious. team\n",
      "Nov 04, 2022\u001b[0m\n",
      "Thought:\u001b[32;1m\u001b[1;3m{\n",
      "    \"action\": \"Final Answer\",\n",
      "    \"action_input\": \"Here are a few Thai food dinner recipes you can make this week:\\n1. Green Curry\\n2. Pad Thai\\n3. Massaman Curry\\n4. Tom Yum Soup\\n5. Papaya Salad. For more recipe options you can go to https://www.delicious.com.au/recipes/collections/gallery/thai-recipes/0v9az9nt\"\n",
      "}\u001b[0m\n",
      "\n",
      "\u001b[1m> Finished chain.\u001b[0m\n"
     ]
    },
    {
     "data": {
      "text/plain": [
       "'Here are a few Thai food dinner recipes you can make this week:\\n1. Green Curry\\n2. Pad Thai\\n3. Massaman Curry\\n4. Tom Yum Soup\\n5. Papaya Salad. For more recipe options you can go to https://www.delicious.com.au/recipes/collections/gallery/thai-recipes/0v9az9nt'"
      ]
     },
     "execution_count": 6,
     "metadata": {},
     "output_type": "execute_result"
    }
   ],
   "source": [
    "agent_chain.run(\"what are some good dinners to make this week, if i like thai food?\")"
   ]
  },
  {
   "cell_type": "code",
   "execution_count": 7,
   "id": "df62e85d-679f-4393-8229-8022e34bcc21",
   "metadata": {},
   "outputs": [
    {
     "name": "stdout",
     "output_type": "stream",
     "text": [
      "\n",
      "\n",
      "\u001b[1m> Entering new AgentExecutor chain...\u001b[0m\n",
      "\u001b[32;1m\u001b[1;3m{\n",
      "    \"action\": \"Browsing internet tool\",\n",
      "    \"action_input\": \"Who won the world cup in 2022?\"\n",
      "}\u001b[0m\n",
      "Observation: \u001b[36;1m\u001b[1;3m2022 World Cup / Champion :  Argentina national football team\u001b[0m\n",
      "Thought:\u001b[32;1m\u001b[1;3m{\n",
      "    \"action\": \"Final Answer\",\n",
      "    \"action_input\": \"The winner of the 2022 World Cup is Argentina national football team.\"\n",
      "}\u001b[0m\n",
      "\n",
      "\u001b[1m> Finished chain.\u001b[0m\n"
     ]
    },
    {
     "data": {
      "text/plain": [
       "'The winner of the 2022 World Cup is Argentina national football team.'"
      ]
     },
     "execution_count": 7,
     "metadata": {},
     "output_type": "execute_result"
    }
   ],
   "source": [
    "agent_chain.run(input=\"tell me who won the world cup in 2022?\")"
   ]
  },
  {
   "cell_type": "code",
   "execution_count": 11,
   "id": "0b69df49-57fc-4742-99a4-7badcfcf7713",
   "metadata": {
    "tags": []
   },
   "outputs": [
    {
     "name": "stdout",
     "output_type": "stream",
     "text": [
      "\n",
      "\n",
      "\u001b[1m> Entering new AgentExecutor chain...\u001b[0m\n",
      "\u001b[32;1m\u001b[1;3m{\n",
      "    \"action\": \"Browsing internet tool\",\n",
      "    \"action_input\": \"What was the Oscar best movie in 2023\"\n",
      "}\u001b[0m\n",
      "Observation: \u001b[36;1m\u001b[1;3mAcademy Award for Best Picture / Winners (2023) :  Everything Everywhere All at Once\u001b[0m\n",
      "Thought:\u001b[32;1m\u001b[1;3m{\n",
      "    \"action\": \"Final Answer\",\n",
      "    \"action_input\": \"The Academy Award for Best Picture winner in 2023 was 'Everything Everywhere All at Once'.\"\n",
      "}\u001b[0m\n",
      "\n",
      "\u001b[1m> Finished chain.\u001b[0m\n"
     ]
    },
    {
     "data": {
      "text/plain": [
       "\"The Academy Award for Best Picture winner in 2023 was 'Everything Everywhere All at Once'.\""
      ]
     },
     "execution_count": 11,
     "metadata": {},
     "output_type": "execute_result"
    }
   ],
   "source": [
    "agent_chain.run('Oscar best movie in 2023.')"
   ]
  },
  {
   "cell_type": "code",
   "execution_count": null,
   "id": "0935aae4-c466-4d90-ad5d-7210e3b4127f",
   "metadata": {},
   "outputs": [],
   "source": []
  }
 ],
 "metadata": {
  "kernelspec": {
   "display_name": "Python 3 (ipykernel)",
   "language": "python",
   "name": "python3"
  },
  "language_info": {
   "codemirror_mode": {
    "name": "ipython",
    "version": 3
   },
   "file_extension": ".py",
   "mimetype": "text/x-python",
   "name": "python",
   "nbconvert_exporter": "python",
   "pygments_lexer": "ipython3",
   "version": "3.9.16"
  }
 },
 "nbformat": 4,
 "nbformat_minor": 5
}
