{
 "cells": [
  {
   "cell_type": "code",
   "execution_count": 3,
   "id": "87229b8d-901d-4c86-b9dd-bbc9171a9242",
   "metadata": {
    "tags": []
   },
   "outputs": [],
   "source": [
    "%%capture\n",
    "# update or install the necessary libraries\n",
    "!pip install --upgrade google-search-results\n"
   ]
  },
  {
   "cell_type": "code",
   "execution_count": 1,
   "id": "8ac08914-8f6d-45f5-8291-fbe938f246fd",
   "metadata": {
    "tags": []
   },
   "outputs": [
    {
     "data": {
      "text/plain": [
       "True"
      ]
     },
     "execution_count": 1,
     "metadata": {},
     "output_type": "execute_result"
    }
   ],
   "source": [
    "from dotenv import load_dotenv\n",
    "import os\n",
    "\n",
    "load_dotenv()"
   ]
  },
  {
   "cell_type": "code",
   "execution_count": 2,
   "id": "c86de660-8522-4cde-b0b6-3ae8eb047242",
   "metadata": {
    "tags": []
   },
   "outputs": [
    {
     "name": "stderr",
     "output_type": "stream",
     "text": [
      "/Users/al002/github/virtual_assistant/virtual-assistant-chain/.venv/lib/python3.9/site-packages/pinecone/index.py:4: TqdmWarning: IProgress not found. Please update jupyter and ipywidgets. See https://ipywidgets.readthedocs.io/en/stable/user_install.html\n",
      "  from tqdm.autonotebook import tqdm\n"
     ]
    }
   ],
   "source": [
    "from langchain.agents import Tool, load_tools\n",
    "from langchain.memory import ConversationBufferMemory\n",
    "from langchain.chat_models import ChatOpenAI\n",
    "from langchain.agents import initialize_agent, AgentExecutor\n",
    "\n",
    "from virtual_assistant.tools import BrowsingTool\n",
    "from virtual_assistant.agents.chat_agent import ConversationalChatAgent\n",
    "from virtual_assistant.utilities import GoogleSerperAPIWrapper, initialize_pinecone"
   ]
  },
  {
   "cell_type": "code",
   "execution_count": 3,
   "id": "b6cb1d0a-058e-4f0c-9b48-99d19eddae87",
   "metadata": {
    "tags": []
   },
   "outputs": [
    {
     "data": {
      "text/plain": [
       "True"
      ]
     },
     "execution_count": 3,
     "metadata": {},
     "output_type": "execute_result"
    }
   ],
   "source": [
    "initialize_pinecone()"
   ]
  },
  {
   "cell_type": "code",
   "execution_count": 4,
   "id": "78271e9c-3fcd-4fd6-aab8-394dc4ce19aa",
   "metadata": {
    "tags": []
   },
   "outputs": [],
   "source": [
    "memory = ConversationBufferMemory(memory_key=\"chat_history\", return_messages=True)"
   ]
  },
  {
   "cell_type": "code",
   "execution_count": 5,
   "id": "551867d5-e500-4001-ba6d-bd8707299b71",
   "metadata": {
    "tags": []
   },
   "outputs": [],
   "source": [
    "# tool_names = ['google-serper']\n",
    "# tools = load_tools(tool_names, llm=llm)\n",
    "\n",
    "tools = [BrowsingTool(serper=GoogleSerperAPIWrapper())]"
   ]
  },
  {
   "cell_type": "code",
   "execution_count": 6,
   "id": "8669cfc4-3a27-413a-bfa0-c5ddb940a4f6",
   "metadata": {
    "tags": []
   },
   "outputs": [],
   "source": [
    "llm=ChatOpenAI(temperature=0)\n",
    "agent_chain = initialize_agent(tools, llm, agent=\"chat-conversational-react-description\", verbose=True, memory=memory)"
   ]
  },
  {
   "cell_type": "code",
   "execution_count": 7,
   "id": "44006793-270c-4348-bfcb-9a3199d4fb64",
   "metadata": {
    "tags": []
   },
   "outputs": [
    {
     "name": "stdout",
     "output_type": "stream",
     "text": [
      "TOOLS\n",
      "------\n",
      "You can ask the user to use tools to look up information that may be helpful in answering the users original question. The tools the human can use are:\n",
      "\n",
      "{tools}\n",
      "\n",
      "RESPONSE FORMAT INSTRUCTIONS\n",
      "----------------------------\n",
      "\n",
      "When responding to me please, please output a response in one of two yaml formats, response must be a valid yaml. No explanation is allowed after action input.:\n",
      "\n",
      "**Option #1:**\n",
      "Use this if you want the human to use a tool.\n",
      "Your response should be in the following schema:\n",
      "\n",
      "Action: the action to take, should be one of [{tool_names}]\n",
      "Plan: All remaining detailed plans after this action in check box. Each plan should be concise and clear to achieve the goal. Write it in the following schema: - [ ] plan\n",
      "What I Did: What you just did to achieve the goal. If you have not done anything, write None.\n",
      "Action Input: the input to the action\n",
      "\n",
      "**Option #2:**\n",
      "Use this if you want to respond directly to the human.\n",
      "You should replace sensitive data or encrypted data with \"d1dy0uth1nk7hat1t1s7haAAat3aSy?\" in action_input.\n",
      "Your response should be in the following schema:\n",
      "\n",
      "Action: Final Answer\n",
      "Plan: ...\n",
      "What I Did: ...\n",
      "Action Input: string \\ You should put what you want to return to use here.\n",
      "\n",
      "\n",
      "USER'S INPUT\n",
      "--------------------\n",
      "Here is the user's input:\n",
      "\n",
      "{{input}}\n",
      "TOOLS\n",
      "------\n",
      "You can ask the user to use tools to look up information that may be helpful in answering the users original question. The tools the human can use are:\n",
      "\n",
      "> Browsing internet tool: A wrapper around search and internet browsing. Useful when you need retrieve lastest information or question context.Input should be a search query.\n",
      "\n",
      "RESPONSE FORMAT INSTRUCTIONS\n",
      "----------------------------\n",
      "\n",
      "When responding to me please, please output a response in one of two yaml formats, response must be a valid yaml. No explanation is allowed after action input.:\n",
      "\n",
      "**Option #1:**\n",
      "Use this if you want the human to use a tool.\n",
      "Your response should be in the following schema:\n",
      "\n",
      "Action: the action to take, should be one of [Browsing internet tool]\n",
      "Plan: All remaining detailed plans after this action in check box. Each plan should be concise and clear to achieve the goal. Write it in the following schema: - [ ] plan\n",
      "What I Did: What you just did to achieve the goal. If you have not done anything, write None.\n",
      "Action Input: the input to the action\n",
      "\n",
      "**Option #2:**\n",
      "Use this if you want to respond directly to the human.\n",
      "You should replace sensitive data or encrypted data with \"d1dy0uth1nk7hat1t1s7haAAat3aSy?\" in action_input.\n",
      "Your response should be in the following schema:\n",
      "\n",
      "Action: Final Answer\n",
      "Plan: ...\n",
      "What I Did: ...\n",
      "Action Input: string \\ You should put what you want to return to use here.\n",
      "\n",
      "\n",
      "USER'S INPUT\n",
      "--------------------\n",
      "Here is the user's input:\n",
      "\n",
      "{input}\n"
     ]
    }
   ],
   "source": [
    "agent = ConversationalChatAgent.from_llm_and_tools(llm=llm, tools=tools)"
   ]
  },
  {
   "cell_type": "code",
   "execution_count": 8,
   "id": "e3b5fa33-3c99-4c74-9f1d-c62c54f16390",
   "metadata": {
    "tags": []
   },
   "outputs": [
    {
     "name": "stdout",
     "output_type": "stream",
     "text": [
      "\n",
      "\n",
      "\u001b[1m> Entering new AgentExecutor chain...\u001b[0m\n",
      "\u001b[32;1m\u001b[1;3mAction: Browsing internet tool\n",
      "Plan:\n",
      "- [ ] Search for \"Japanese dinner recipes\"\n",
      "- [ ] Look for recipes that fit the user's dietary restrictions\n",
      "- [ ] Choose 3-5 recipes that look appealing\n",
      "What I Did: None\n",
      "Action Input: Japanese dinner recipes\u001b[0m\n",
      "Observation: \u001b[36;1m\u001b[1;3mView Recipe\n",
      "\n",
      "\n",
      "This simple Japanese comfort food recipe is ready in less than 20 minutes! \"Family Secret Revealed... This authentic Japanese recipe comes from a southern province of Japan, and has been passed down for generations,\" says chantal. \"Our family loves to eat this meal every Sunday for brunch. Healthy comfort food! Try it and you will love it too! Serve over hot white rice.\"\n",
      "\n",
      "\n",
      "\n",
      "\n",
      "\n",
      "\n",
      "04\n",
      "of 21\n",
      "\n",
      "\n",
      "   Japanese Shrimp Fried Rice with Yum Yum Sauce  \n",
      "\n",
      "View Recipe\n",
      "\n",
      "\n",
      "\"This is the best shrimp fried rice I've ever made or had!\" says doingdirt. \"The yum yum sauce tastes better if made the day before, so the flavors can marry.\"\n",
      "\n",
      "\n",
      "\n",
      "\n",
      "\n",
      "\n",
      "05\n",
      "of 21\n",
      "\n",
      "\n",
      "   Soba Noodle Veggie Bowl  \n",
      "\n",
      "View Recipe\n",
      "\n",
      "\n",
      "\"Also known as 'yasai yakisoba,' this is a healthy and quick dish with stir-fried noodles, vegetables, and a savory sauce,\" says Diana71. \"The recipe can be easily doubled, but this is really best for one person.\"\n",
      "\n",
      "\n",
      "\n",
      "\n",
      "\n",
      "\n",
      "06\n",
      "of 21\n",
      "\n",
      "\n",
      "   Japanese-Style Crispy Fried Pork Bowl (Tonkatsu Donburi)  \n",
      "\n",
      "View Recipe\n",
      "\n",
      "\n",
      "Crispy deep-fried pork chops are the stars of this savory Japanese-style rice bowl. \"Also known as Katsudon,\" says otaku. \"Garnish with sliced green onions.\"\n",
      "\n",
      "\n",
      "\n",
      "\n",
      "\n",
      "\n",
      "07\n",
      "of 21\n",
      "\n",
      "\n",
      "   Miso-Glazed Black Cod  \n",
      "\n",
      "View Recipe\n",
      "\n",
      "\n",
      "\n",
      "\n",
      "\n",
      "\n",
      "\n",
      "\n",
      "\n",
      "\n",
      "\n",
      "\n",
      "Broiled black cod with a miso glaze of miso, sake, mirin, and a little brown sugar. Brush a bit of glaze on the cod, allow the fish to sit momentarily to marinate, and then broil. Dinner's ready! \"This is my take on the oft requested miso-glazed, black cod, made famous by chef Nobu Matsuhisa,\" says Chef John. \"In addition to a taste and texture to die for, this is one of the easiest fish recipes of all time. A couple minutes to make the sauce, some brushing, a short wait, and you're broiling.\"\n",
      "\n",
      "\n",
      "\n",
      "\n",
      "\n",
      "\n",
      "08\n",
      "of 21\n",
      "\n",
      "\n",
      "   Tonkatsu (Japanese-Style Crispy Fried Pork Cutlets)  \n",
      "\n",
      "View Recipe\n",
      "\n",
      "\n",
      "Tonkatsu is a popular Japanese-style fried pork cutlet. \"Serve plain with Japanese-style barbeque sauce or serve on top of curry, ramen, udon, and more!\" says otaku.\n",
      "\n",
      "\n",
      "\n",
      "\n",
      "\n",
      "\n",
      "09\n",
      "of 21\n",
      "\n",
      "\n",
      "   Chicken Katsu  \n",
      "\n",
      "View Recipe\n",
      "\n",
      "\n",
      "\n",
      "\n",
      "\n",
      "\n",
      "\n",
      "\n",
      "\n",
      "\n",
      "\n",
      "Snacking in the Kitchen\n",
      "\n",
      "\n",
      "\n",
      "\"This is my family recipe for Chicken Katsu -- Japanese-style fried chicken,\" says akuraiiko. \"Can also be used to make Tonkatsu, just use pork cutlets instead of chicken. Serve with white rice and tonkatsu sauce.\"\n",
      "\n",
      "\n",
      "\n",
      "\n",
      "\n",
      "\n",
      "10\n",
      "of 21\n",
      "\n",
      "\n",
      "   Beef Sukiyaki  \n",
      "\n",
      "View Recipe\n",
      "\n",
      "\n",
      "Here's a Japanese hot pot recipe -- a one-pot Japanese meal with vegetables, noodles, and beef, all simmered in a steaming, flavorful broth made with dashi, mirin, and soy sauce. \"We have a favorite restaurant that serves beef sukiyaki and this came pretty close!\" raves Michelle. \"It was excellent.\"\n",
      "\n",
      "\n",
      "\n",
      "\n",
      "\n",
      "\n",
      "11\n",
      "of 21\n",
      "\n",
      "\n",
      "   Yakitori Chicken  \n",
      "\n",
      "View Recipe\n",
      "\n",
      "\n",
      "Cubes of chicken breast meat are marinated in a soy sauce, sake, and ginger sauce, threaded onto skewers with leeks, and broiled. \"An easy, tasty, and fun meal,\" says dakota kelly.\n",
      "\n",
      "\n",
      "\n",
      "\n",
      "\n",
      "\n",
      "12\n",
      "of 21\n",
      "\n",
      "\n",
      "   Nasu Dengaku  \n",
      "\n",
      "View Recipe\u001b[0m\n",
      "Thought:\u001b[32;1m\u001b[1;3mAction: Final Answer\n",
      "Plan: I found some Japanese dinner recipes that might be helpful:\n",
      "- Japanese comfort food recipe\n",
      "- Japanese shrimp fried rice with yum yum sauce\n",
      "- Soba noodle veggie bowl\n",
      "- Japanese-style crispy fried pork bowl (tonkatsu donburi)\n",
      "- Miso-glazed black cod\n",
      "- Tonkatsu (Japanese-style crispy fried pork cutlets)\n",
      "- Chicken katsu\n",
      "- Beef sukiyaki\n",
      "- Yakitori chicken\n",
      "- Nasu dengaku\n",
      "What I Did: I used the browsing internet tool to search for Japanese dinner recipes.\n",
      "Action Input: I hope you find these recipes helpful!\u001b[0m\n",
      "\n",
      "\u001b[1m> Finished chain.\u001b[0m\n"
     ]
    },
    {
     "data": {
      "text/plain": [
       "'I hope you find these recipes helpful!'"
      ]
     },
     "execution_count": 8,
     "metadata": {},
     "output_type": "execute_result"
    }
   ],
   "source": [
    "executor = AgentExecutor.from_agent_and_tools(agent=agent, tools=tools, memory=memory, verbose=True)\n",
    "executor.run(\"what are some good dinners to make this week, if i like japanese food?\")"
   ]
  },
  {
   "cell_type": "code",
   "execution_count": 7,
   "id": "df62e85d-679f-4393-8229-8022e34bcc21",
   "metadata": {},
   "outputs": [
    {
     "name": "stdout",
     "output_type": "stream",
     "text": [
      "\n",
      "\n",
      "\u001b[1m> Entering new AgentExecutor chain...\u001b[0m\n",
      "\u001b[32;1m\u001b[1;3m{\n",
      "    \"action\": \"Browsing internet tool\",\n",
      "    \"action_input\": \"Who won the world cup in 2022?\"\n",
      "}\u001b[0m\n",
      "Observation: \u001b[36;1m\u001b[1;3m2022 World Cup / Champion :  Argentina national football team\u001b[0m\n",
      "Thought:\u001b[32;1m\u001b[1;3m{\n",
      "    \"action\": \"Final Answer\",\n",
      "    \"action_input\": \"The winner of the 2022 World Cup is Argentina national football team.\"\n",
      "}\u001b[0m\n",
      "\n",
      "\u001b[1m> Finished chain.\u001b[0m\n"
     ]
    },
    {
     "data": {
      "text/plain": [
       "'The winner of the 2022 World Cup is Argentina national football team.'"
      ]
     },
     "execution_count": 7,
     "metadata": {},
     "output_type": "execute_result"
    }
   ],
   "source": [
    "agent_chain.run(input=\"tell me who won the world cup in 2022?\")"
   ]
  },
  {
   "cell_type": "code",
   "execution_count": 11,
   "id": "0b69df49-57fc-4742-99a4-7badcfcf7713",
   "metadata": {
    "tags": []
   },
   "outputs": [
    {
     "name": "stdout",
     "output_type": "stream",
     "text": [
      "\n",
      "\n",
      "\u001b[1m> Entering new AgentExecutor chain...\u001b[0m\n",
      "\u001b[32;1m\u001b[1;3m{\n",
      "    \"action\": \"Browsing internet tool\",\n",
      "    \"action_input\": \"What was the Oscar best movie in 2023\"\n",
      "}\u001b[0m\n",
      "Observation: \u001b[36;1m\u001b[1;3mAcademy Award for Best Picture / Winners (2023) :  Everything Everywhere All at Once\u001b[0m\n",
      "Thought:\u001b[32;1m\u001b[1;3m{\n",
      "    \"action\": \"Final Answer\",\n",
      "    \"action_input\": \"The Academy Award for Best Picture winner in 2023 was 'Everything Everywhere All at Once'.\"\n",
      "}\u001b[0m\n",
      "\n",
      "\u001b[1m> Finished chain.\u001b[0m\n"
     ]
    },
    {
     "data": {
      "text/plain": [
       "\"The Academy Award for Best Picture winner in 2023 was 'Everything Everywhere All at Once'.\""
      ]
     },
     "execution_count": 11,
     "metadata": {},
     "output_type": "execute_result"
    }
   ],
   "source": [
    "agent_chain.run('Oscar best movie in 2023.')"
   ]
  },
  {
   "cell_type": "code",
   "execution_count": null,
   "id": "0935aae4-c466-4d90-ad5d-7210e3b4127f",
   "metadata": {},
   "outputs": [],
   "source": []
  }
 ],
 "metadata": {
  "kernelspec": {
   "display_name": "Python 3 (ipykernel)",
   "language": "python",
   "name": "python3"
  },
  "language_info": {
   "codemirror_mode": {
    "name": "ipython",
    "version": 3
   },
   "file_extension": ".py",
   "mimetype": "text/x-python",
   "name": "python",
   "nbconvert_exporter": "python",
   "pygments_lexer": "ipython3",
   "version": "3.9.16"
  }
 },
 "nbformat": 4,
 "nbformat_minor": 5
}
