{
 "cells": [
  {
   "cell_type": "code",
   "execution_count": 3,
   "id": "87229b8d-901d-4c86-b9dd-bbc9171a9242",
   "metadata": {
    "tags": []
   },
   "outputs": [],
   "source": [
    "%%capture\n",
    "# update or install the necessary libraries\n",
    "!pip install --upgrade google-search-results\n"
   ]
  },
  {
   "cell_type": "code",
   "execution_count": 1,
   "id": "8ac08914-8f6d-45f5-8291-fbe938f246fd",
   "metadata": {
    "tags": []
   },
   "outputs": [
    {
     "data": {
      "text/plain": [
       "True"
      ]
     },
     "execution_count": 1,
     "metadata": {},
     "output_type": "execute_result"
    }
   ],
   "source": [
    "from dotenv import load_dotenv\n",
    "import os\n",
    "\n",
    "load_dotenv()"
   ]
  },
  {
   "cell_type": "code",
   "execution_count": 2,
   "id": "c86de660-8522-4cde-b0b6-3ae8eb047242",
   "metadata": {
    "tags": []
   },
   "outputs": [],
   "source": [
    "from langchain.agents import Tool, load_tools\n",
    "from langchain.memory import ConversationBufferMemory\n",
    "from langchain.chat_models import ChatOpenAI\n",
    "from langchain.agents import initialize_agent\n",
    "\n",
    "from virtual_assistant.tools import BrowsingTool\n",
    "from virtual_assistant.utilities import GoogleSerperAPIWrapper"
   ]
  },
  {
   "cell_type": "code",
   "execution_count": 3,
   "id": "78271e9c-3fcd-4fd6-aab8-394dc4ce19aa",
   "metadata": {
    "tags": []
   },
   "outputs": [],
   "source": [
    "memory = ConversationBufferMemory(memory_key=\"chat_history\", return_messages=True)"
   ]
  },
  {
   "cell_type": "code",
   "execution_count": 4,
   "id": "551867d5-e500-4001-ba6d-bd8707299b71",
   "metadata": {
    "tags": []
   },
   "outputs": [],
   "source": [
    "# tool_names = ['google-serper']\n",
    "# tools = load_tools(tool_names, llm=llm)\n",
    "\n",
    "tools = [BrowsingTool(serper=GoogleSerperAPIWrapper())]"
   ]
  },
  {
   "cell_type": "code",
   "execution_count": 5,
   "id": "8669cfc4-3a27-413a-bfa0-c5ddb940a4f6",
   "metadata": {
    "tags": []
   },
   "outputs": [],
   "source": [
    "llm=ChatOpenAI(temperature=0)\n",
    "agent_chain = initialize_agent(tools, llm, agent=\"chat-conversational-react-description\", verbose=True, memory=memory)"
   ]
  },
  {
   "cell_type": "code",
   "execution_count": 6,
   "id": "3a3dc25c-8b0d-4db5-948b-275fb366e0f6",
   "metadata": {},
   "outputs": [
    {
     "name": "stdout",
     "output_type": "stream",
     "text": [
      "\n",
      "\n",
      "\u001b[1m> Entering new AgentExecutor chain...\u001b[0m\n",
      "\u001b[32;1m\u001b[1;3m{\n",
      "    \"action\": \"Browsing internet tool\",\n",
      "    \"action_input\": \"list of thai food dinners to make this week\"\n",
      "}\u001b[0m\n",
      "Observation: \u001b[36;1m\u001b[1;3m5. Pad Thai \n",
      "\n",
      "Chances of you ordering Pad Thai in a Thai restaurant is pretty high, am I right? Why wait to go to the restaurant when you can whip up the same restaurant quality dish in under 30 minutes, right in your very own kitchen. \n",
      "Pad Thai is a medley of chicken, shrimp or tofu along with cilantro, peanuts, bean sprouts, scrambles eggs and rice noodles tossed with delicious pad Thai sauce. Easy weeknight meal when the Asian cravings hit hard. \n",
      "Get the Recipe @ tastesbetterfromscratch\n",
      "\n",
      "6. Sticky Thai Chicken Wings \n",
      "\n",
      "If you think chicken wings are just an appetizer… think again. They are excellent when served as mains with a side of some Asian noodles or fried rice. These sticky chicken wings are glazed with delicious Thai flavored sticky sauce. It’s one of the easiest Thai Recipes that you can cook, with ingredients you probably have in your kitchen.\n",
      "Get the Recipe @ cafedelites\n",
      "\n",
      "7. Thai Chicken Buddha Bowls \n",
      "\n",
      "Buddha bowls are so much fun to make and double the fun to dig in. This Thai Chicken Buddha Bowl is full of a rainbow of colors, meaning more nutrients and yummy varied tastes. It’s healthy, it’s hearty and it’s absolutely finger licking delicious. \n",
      "Get the Recipe @ damndelicious\n",
      "\n",
      "8. 15-Minute Pad See Ew \n",
      "\n",
      "Pad See Ew, or Thai stir fried noodles, is one of the most popular street foods in Thailand. Here, the wide rice noodles are stir fried with chicken or beef and veggies all coated with savory, sweet and tangy sauce. It’s 15 a minute delight to make your life easy on busy, hectic days.      \n",
      "Get the Recipe @ cookerru\n",
      "\n",
      "9. Thai Pineapple Fried Rice\n",
      "\n",
      "Make your regular fried rice a lot more interesting and tasty with few extra add-ins… Thai style. This pineapple fried rice happens very fast with simple ingredients. Serve it in a pineapple boat to make it look extra special and eye catching to wow your guests at some Asian themed party.  \n",
      "Get the Recipe @ jessicagavin\n",
      "\n",
      "10. Tom Yum Soup \n",
      "\n",
      "This very popular soup from Thailand is one of the easiest and quickest soups you would cook in your kitchen, and it would taste just like any authentic Thai restaurant. This shrimp soup is loaded with Thai flavors that are achieved by using Asian staples like lemongrass, garlic, galangal, fish sauce, lime juice and kaffir leaves. \n",
      "Give these fresh and bold flavors a try this weekend. You are going to come back to this one again and again. \n",
      "Get the Recipe @ carlsbadcravings\n",
      "\n",
      "11. Thai Steak Salad \n",
      "\n",
      "Healthy don’t have to be boring. This hearty Thai-inspired steak salad is a perfect dinner full of freshness and flavors. It has sirloin steak marinated in Asian inspired dressing, which is  grilled perfectly and then sliced thin. Put it over a bed of greens along with cucumbers, cilantro and mint with sweet, salty and spicy Thai dressing. Absolutely delicious.\n",
      "Get the Recipe @ jocooks\n",
      "\n",
      "12. Thai Red Curry Noodle Soup\u001b[0m\n",
      "Thought:\u001b[32;1m\u001b[1;3m{\n",
      "    \"action\": \"Final Answer\",\n",
      "    \"action_input\": \"Here are some Thai food dinners you can make this week: Pad Thai, Sticky Thai Chicken Wings, Thai Chicken Buddha Bowls, 15-Minute Pad See Ew, Thai Pineapple Fried Rice, Tom Yum Soup, Thai Steak Salad, and Thai Red Curry Noodle Soup.\"\n",
      "}\u001b[0m\n",
      "\n",
      "\u001b[1m> Finished chain.\u001b[0m\n"
     ]
    },
    {
     "data": {
      "text/plain": [
       "'Here are some Thai food dinners you can make this week: Pad Thai, Sticky Thai Chicken Wings, Thai Chicken Buddha Bowls, 15-Minute Pad See Ew, Thai Pineapple Fried Rice, Tom Yum Soup, Thai Steak Salad, and Thai Red Curry Noodle Soup.'"
      ]
     },
     "execution_count": 6,
     "metadata": {},
     "output_type": "execute_result"
    }
   ],
   "source": [
    "agent_chain.run(\"what are some good dinners to make this week, if i like thai food?\")"
   ]
  },
  {
   "cell_type": "code",
   "execution_count": 7,
   "id": "df62e85d-679f-4393-8229-8022e34bcc21",
   "metadata": {},
   "outputs": [
    {
     "name": "stdout",
     "output_type": "stream",
     "text": [
      "\n",
      "\n",
      "\u001b[1m> Entering new AgentExecutor chain...\u001b[0m\n",
      "\u001b[32;1m\u001b[1;3m{\n",
      "    \"action\": \"Browsing internet tool\",\n",
      "    \"action_input\": \"Who won the world cup in 2022?\"\n",
      "}\u001b[0m\n",
      "Observation: \u001b[36;1m\u001b[1;3m2022 World Cup / Champion :  Argentina national football team\u001b[0m\n",
      "Thought:\u001b[32;1m\u001b[1;3m{\n",
      "    \"action\": \"Final Answer\",\n",
      "    \"action_input\": \"The winner of the 2022 World Cup is Argentina national football team.\"\n",
      "}\u001b[0m\n",
      "\n",
      "\u001b[1m> Finished chain.\u001b[0m\n"
     ]
    },
    {
     "data": {
      "text/plain": [
       "'The winner of the 2022 World Cup is Argentina national football team.'"
      ]
     },
     "execution_count": 7,
     "metadata": {},
     "output_type": "execute_result"
    }
   ],
   "source": [
    "agent_chain.run(input=\"tell me who won the world cup in 2022?\")"
   ]
  },
  {
   "cell_type": "code",
   "execution_count": 11,
   "id": "0b69df49-57fc-4742-99a4-7badcfcf7713",
   "metadata": {
    "tags": []
   },
   "outputs": [
    {
     "name": "stdout",
     "output_type": "stream",
     "text": [
      "\n",
      "\n",
      "\u001b[1m> Entering new AgentExecutor chain...\u001b[0m\n",
      "\u001b[32;1m\u001b[1;3m{\n",
      "    \"action\": \"Browsing internet tool\",\n",
      "    \"action_input\": \"What was the Oscar best movie in 2023\"\n",
      "}\u001b[0m\n",
      "Observation: \u001b[36;1m\u001b[1;3mAcademy Award for Best Picture / Winners (2023) :  Everything Everywhere All at Once\u001b[0m\n",
      "Thought:\u001b[32;1m\u001b[1;3m{\n",
      "    \"action\": \"Final Answer\",\n",
      "    \"action_input\": \"The Academy Award for Best Picture winner in 2023 was 'Everything Everywhere All at Once'.\"\n",
      "}\u001b[0m\n",
      "\n",
      "\u001b[1m> Finished chain.\u001b[0m\n"
     ]
    },
    {
     "data": {
      "text/plain": [
       "\"The Academy Award for Best Picture winner in 2023 was 'Everything Everywhere All at Once'.\""
      ]
     },
     "execution_count": 11,
     "metadata": {},
     "output_type": "execute_result"
    }
   ],
   "source": [
    "agent_chain.run('Oscar best movie in 2023.')"
   ]
  },
  {
   "cell_type": "code",
   "execution_count": null,
   "id": "0935aae4-c466-4d90-ad5d-7210e3b4127f",
   "metadata": {},
   "outputs": [],
   "source": []
  }
 ],
 "metadata": {
  "kernelspec": {
   "display_name": "Python 3 (ipykernel)",
   "language": "python",
   "name": "python3"
  },
  "language_info": {
   "codemirror_mode": {
    "name": "ipython",
    "version": 3
   },
   "file_extension": ".py",
   "mimetype": "text/x-python",
   "name": "python",
   "nbconvert_exporter": "python",
   "pygments_lexer": "ipython3",
   "version": "3.9.16"
  }
 },
 "nbformat": 4,
 "nbformat_minor": 5
}
