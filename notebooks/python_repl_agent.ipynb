{
 "cells": [
  {
   "cell_type": "code",
   "execution_count": 1,
   "id": "5bbea1b5-7cb8-46b2-b0f3-b73cedfa5f23",
   "metadata": {},
   "outputs": [],
   "source": [
    "from langchain.agents import Tool\n",
    "from langchain.memory import ConversationBufferMemory\n",
    "from langchain.chat_models import ChatOpenAI\n",
    "from langchain.utilities import PythonREPL\n",
    "from langchain.agents import initialize_agent\n"
   ]
  },
  {
   "cell_type": "code",
   "execution_count": 2,
   "id": "6a753160-ecd9-44c0-b277-02c8b6794d46",
   "metadata": {},
   "outputs": [],
   "source": [
    "python_repl = PythonREPL()\n",
    "\n",
    "tools = [\n",
    "    Tool(\n",
    "        name = \"Python REPL\",\n",
    "        func=python_repl.run,\n",
    "        description=\"useful for when you can answer questions from execute python code. the input to this should be valid python code.\"\n",
    "    ),\n",
    "]"
   ]
  },
  {
   "cell_type": "code",
   "execution_count": 16,
   "id": "fe0fbad6-d964-45da-a6d8-14ec058b1e5b",
   "metadata": {},
   "outputs": [],
   "source": [
    "memory = ConversationBufferMemory(memory_key=\"chat_history\", return_messages=True)"
   ]
  },
  {
   "cell_type": "code",
   "execution_count": 34,
   "id": "bbc98b6a-6381-471f-8ee1-bba0807746c8",
   "metadata": {},
   "outputs": [],
   "source": [
    "llm=ChatOpenAI(temperature=0)\n",
    "agent_chain = initialize_agent(tools, llm, agent=\"chat-conversational-react-description\", verbose=True, memory=memory)"
   ]
  },
  {
   "cell_type": "code",
   "execution_count": 35,
   "id": "0008d770-3eab-498b-898a-a185ea08bb4d",
   "metadata": {
    "tags": []
   },
   "outputs": [
    {
     "name": "stdout",
     "output_type": "stream",
     "text": [
      "\n",
      "\n",
      "\u001b[1m> Entering new AgentExecutor chain...\u001b[0m\n",
      "\u001b[32;1m\u001b[1;3m```json\n",
      "{\n",
      "    \"action\": \"Final Answer\",\n",
      "    \"action_input\": \"Each word has no anagram word.\"\n",
      "}\n",
      "```\u001b[0m\n",
      "\n",
      "\u001b[1m> Finished chain.\u001b[0m\n"
     ]
    },
    {
     "data": {
      "text/plain": [
       "'Each word has no anagram word.'"
      ]
     },
     "execution_count": 35,
     "metadata": {},
     "output_type": "execute_result"
    }
   ],
   "source": [
    "agent_chain.run(\"\"\"In the following words:\n",
    "                ## WORDS\n",
    "                ginger, danger, conversational.\n",
    "\n",
    "                ## QUESTION\n",
    "                How many anagram word?\n",
    "                \"\"\")"
   ]
  },
  {
   "cell_type": "code",
   "execution_count": 20,
   "id": "03629551-c994-417d-9000-280631ad6ce2",
   "metadata": {
    "tags": []
   },
   "outputs": [
    {
     "name": "stdout",
     "output_type": "stream",
     "text": [
      "\n",
      "\n",
      "\u001b[1m> Entering new AgentExecutor chain...\u001b[0m\n",
      "\u001b[32;1m\u001b[1;3m{\n",
      "    \"action\": \"Python REPL\",\n",
      "    \"action_input\": \"import requests\\nfrom bs4 import BeautifulSoup\\n\\nurl = 'https://sarabander.github.io/sicp/html/1_002e2.xhtml#g_t1_002e2'\\n\\nresponse = requests.get(url)\\n\\nsoup = BeautifulSoup(response.content, 'html.parser')\\n\\nmain_idea = soup.find_all('p')[0:3]\\n\\nfor idea in main_idea:\\n    print(idea.text)\"\n",
      "}\u001b[0m\n",
      "Observation: \u001b[36;1m\u001b[1;3m\n",
      "Next: 1.3, Prev: 1.1, Up: Chapter 1   [Contents]\n",
      "We have now considered the elements of programming: We have used primitive\n",
      "arithmetic operations, we have combined these operations, and we have\n",
      "abstracted these composite operations by defining them as compound procedures.\n",
      "But that is not enough to enable us to say that we know how to program.  Our\n",
      "situation is analogous to that of someone who has learned the rules for how the\n",
      "pieces move in chess but knows nothing of typical openings, tactics, or\n",
      "strategy.  Like the novice chess player, we don’t yet know the common patterns\n",
      "of usage in the domain.  We lack the knowledge of which moves are worth making\n",
      "(which procedures are worth defining).  We lack the experience to predict the\n",
      "consequences of making a move (executing a procedure).\n",
      "\n",
      "The ability to visualize the consequences of the actions under consideration is\n",
      "crucial to becoming an expert programmer, just as it is in any synthetic,\n",
      "creative activity.  In becoming an expert photographer, for example, one must\n",
      "learn how to look at a scene and know how dark each region will appear on a\n",
      "print for each possible choice of exposure and development conditions.  Only\n",
      "then can one reason backward, planning framing, lighting, exposure, and\n",
      "development to obtain the desired effects.  So it is with programming, where we\n",
      "are planning the course of action to be taken by a process and where we control\n",
      "the process by means of a program.  To become experts, we must learn to\n",
      "visualize the processes generated by various types of procedures.  Only after\n",
      "we have developed such a skill can we learn to reliably construct programs that\n",
      "exhibit the desired behavior.\n",
      "\n",
      "\u001b[0m\n",
      "Thought:\u001b[32;1m\u001b[1;3m{\n",
      "    \"action\": \"Final Answer\",\n",
      "    \"action_input\": \"The main idea of the first three paragraphs of the page is that while we have learned the elements of programming, such as primitive arithmetic operations and compound procedures, we lack the knowledge of which procedures are worth defining and the experience to predict the consequences of executing a procedure. To become expert programmers, we must learn to visualize the processes generated by various types of procedures.\"\n",
      "}\u001b[0m\n",
      "\n",
      "\u001b[1m> Finished chain.\u001b[0m\n"
     ]
    },
    {
     "data": {
      "text/plain": [
       "'The main idea of the first three paragraphs of the page is that while we have learned the elements of programming, such as primitive arithmetic operations and compound procedures, we lack the knowledge of which procedures are worth defining and the experience to predict the consequences of executing a procedure. To become expert programmers, we must learn to visualize the processes generated by various types of procedures.'"
      ]
     },
     "execution_count": 20,
     "metadata": {},
     "output_type": "execute_result"
    }
   ],
   "source": [
    "agent_chain.run(\"What is the main idea of the following page's first three part, summarize it: https://sarabander.github.io/sicp/html/1_002e2.xhtml#g_t1_002e2\")"
   ]
  },
  {
   "cell_type": "code",
   "execution_count": null,
   "id": "af04775f-9e2d-4885-84e5-8b76996ab463",
   "metadata": {},
   "outputs": [],
   "source": []
  }
 ],
 "metadata": {
  "kernelspec": {
   "display_name": "Python 3 (ipykernel)",
   "language": "python",
   "name": "python3"
  },
  "language_info": {
   "codemirror_mode": {
    "name": "ipython",
    "version": 3
   },
   "file_extension": ".py",
   "mimetype": "text/x-python",
   "name": "python",
   "nbconvert_exporter": "python",
   "pygments_lexer": "ipython3",
   "version": "3.9.16"
  }
 },
 "nbformat": 4,
 "nbformat_minor": 5
}
